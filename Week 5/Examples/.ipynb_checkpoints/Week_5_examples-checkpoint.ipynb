{
 "cells": [
  {
   "cell_type": "markdown",
   "id": "b4718519",
   "metadata": {},
   "source": [
    "# Week 5 Examples\n",
    "### Spark SQL"
   ]
  },
  {
   "cell_type": "code",
   "execution_count": 1,
   "id": "6f768ff5",
   "metadata": {},
   "outputs": [],
   "source": [
    "import os\n",
    "os.environ[\"PYSPARK_SUBMIT_ARGS\"] = '--master local[2] pyspark-shell'"
   ]
  },
  {
   "cell_type": "code",
   "execution_count": 2,
   "id": "15b0557c",
   "metadata": {},
   "outputs": [],
   "source": [
    "import findspark\n",
    "findspark.init()"
   ]
  },
  {
   "cell_type": "markdown",
   "id": "109b451c",
   "metadata": {},
   "source": [
    "### Custom spark config"
   ]
  },
  {
   "cell_type": "code",
   "execution_count": 3,
   "id": "ef9557c1",
   "metadata": {},
   "outputs": [],
   "source": [
    "from pyspark.sql import SparkSession\n",
    "\n",
    "spark = (SparkSession.builder\n",
    "         .master(\"local[*]\")\n",
    "         .config(\"spark.executor.memory\", \"2g\")\n",
    "         .appName(\"Week 5 Examples\")\n",
    "         .getOrCreate()\n",
    "        \n",
    "        )"
   ]
  },
  {
   "cell_type": "code",
   "execution_count": 4,
   "id": "328f2980",
   "metadata": {},
   "outputs": [],
   "source": [
    "# Extract out the sparkcontext from the session\n",
    "sc = spark.sparkContext"
   ]
  },
  {
   "cell_type": "code",
   "execution_count": 5,
   "id": "a42a8c4e",
   "metadata": {},
   "outputs": [
    {
     "data": {
      "text/plain": [
       "'2g'"
      ]
     },
     "execution_count": 5,
     "metadata": {},
     "output_type": "execute_result"
    }
   ],
   "source": [
    "# Checking the configuration we set\n",
    "spark.conf.get('spark.executor.memory')"
   ]
  },
  {
   "cell_type": "markdown",
   "id": "5a7bdd21",
   "metadata": {},
   "source": [
    "### DataFrame Reader"
   ]
  },
  {
   "cell_type": "code",
   "execution_count": 9,
   "id": "f5c0b1cc",
   "metadata": {},
   "outputs": [],
   "source": [
    "file = 'data/sales.csv'\n",
    "df = spark.read.format('csv').option('header','true').load(file)"
   ]
  },
  {
   "cell_type": "code",
   "execution_count": 10,
   "id": "65872372",
   "metadata": {},
   "outputs": [
    {
     "name": "stdout",
     "output_type": "stream",
     "text": [
      "+------+--------------+----------+----------+--------------+-----------+---------------+---------+-------------+---------------+----------+-----------+------+---------------+---------------+------------+--------------------+--------+--------+--------+--------+\n",
      "|Row ID|      Order ID|Order Date| Ship Date|     Ship Mode|Customer ID|  Customer Name|  Segment|      Country|           City|     State|Postal Code|Region|     Product ID|       Category|Sub-Category|        Product Name|   Sales|Quantity|Discount|  Profit|\n",
      "+------+--------------+----------+----------+--------------+-----------+---------------+---------+-------------+---------------+----------+-----------+------+---------------+---------------+------------+--------------------+--------+--------+--------+--------+\n",
      "|     1|CA-2016-152156| 11/8/2016|11/11/2016|  Second Class|   CG-12520|    Claire Gute| Consumer|United States|      Henderson|  Kentucky|      42420| South|FUR-BO-10001798|      Furniture|   Bookcases|Bush Somerset Col...|  261.96|       2|       0| 41.9136|\n",
      "|     2|CA-2016-152156| 11/8/2016|11/11/2016|  Second Class|   CG-12520|    Claire Gute| Consumer|United States|      Henderson|  Kentucky|      42420| South|FUR-CH-10000454|      Furniture|      Chairs|Hon Deluxe Fabric...|  731.94|       3|       0| 219.582|\n",
      "|     3|CA-2016-138688| 6/12/2016| 6/16/2016|  Second Class|   DV-13045|Darrin Van Huff|Corporate|United States|    Los Angeles|California|      90036|  West|OFF-LA-10000240|Office Supplies|      Labels|Self-Adhesive Add...|   14.62|       2|       0|  6.8714|\n",
      "|     4|US-2015-108966|10/11/2015|10/18/2015|Standard Class|   SO-20335| Sean O'Donnell| Consumer|United States|Fort Lauderdale|   Florida|      33311| South|FUR-TA-10000577|      Furniture|      Tables|Bretford CR4500 S...|957.5775|       5|    0.45|-383.031|\n",
      "|     5|US-2015-108966|10/11/2015|10/18/2015|Standard Class|   SO-20335| Sean O'Donnell| Consumer|United States|Fort Lauderdale|   Florida|      33311| South|OFF-ST-10000760|Office Supplies|     Storage|Eldon Fold 'N Rol...|  22.368|       2|     0.2|  2.5164|\n",
      "+------+--------------+----------+----------+--------------+-----------+---------------+---------+-------------+---------------+----------+-----------+------+---------------+---------------+------------+--------------------+--------+--------+--------+--------+\n",
      "only showing top 5 rows\n",
      "\n"
     ]
    }
   ],
   "source": [
    "df.show(5)"
   ]
  },
  {
   "cell_type": "markdown",
   "id": "7af556ba",
   "metadata": {},
   "source": [
    "### DataFrame Writer"
   ]
  },
  {
   "cell_type": "code",
   "execution_count": 13,
   "id": "6f4f6698",
   "metadata": {},
   "outputs": [],
   "source": [
    "(df.write.format('orc')\n",
    "    .partitionBy(\"Category\")\n",
    "    .mode('overwrite')\n",
    "    .option('compression','snappy')\n",
    "    .save('./data/orc/sales_data')\n",
    ")"
   ]
  },
  {
   "cell_type": "markdown",
   "id": "bee1308a",
   "metadata": {},
   "source": [
    "### Joins"
   ]
  },
  {
   "cell_type": "code",
   "execution_count": 26,
   "id": "98cc5abc",
   "metadata": {},
   "outputs": [],
   "source": [
    "from pyspark.sql.functions import desc"
   ]
  },
  {
   "cell_type": "code",
   "execution_count": 18,
   "id": "bca36a33",
   "metadata": {},
   "outputs": [],
   "source": [
    "file_i = 'data/sf-fire-incidents.csv'\n",
    "incidents = spark.read.format('csv').option('header','true').load(file_i)"
   ]
  },
  {
   "cell_type": "code",
   "execution_count": 19,
   "id": "fe008ef6",
   "metadata": {},
   "outputs": [],
   "source": [
    "file_c = 'data/sf-fire-calls.csv'\n",
    "calls = spark.read.format('csv').option('header','true').load(file_c)"
   ]
  },
  {
   "cell_type": "code",
   "execution_count": 20,
   "id": "04eb9432",
   "metadata": {},
   "outputs": [
    {
     "name": "stdout",
     "output_type": "stream",
     "text": [
      "+---------------+---------------+--------------------+-------------+-----------+--------------------+--------------------+--------------------+-------------+-------+---------+------------+----+-----------------+---------------------+---------+-------------+-----------+---------------+-------------------+-----------------------+-----------------------+---------------+-------------+-------------------+-----------------+----------------+--------------------+----------+--------------------+----------------------+------------------+--------------------------+--------------------+-------------------+--------------+-----------------------+-------------------------+-----------+------------------+--------------------------------------+--------------+----------------+--------------------+-----------+--------------+------------------------------------+----------------------------------------+----------------------------------+------------------------------------+-----------------+-------------+------------------+----------------------+-----------------------+--------------------------------------+----------------------------------+----------------------------------------+--------------------------------------------+-----------------------------------+-------------------+----------------------+--------------------+\n",
      "|Incident Number|Exposure Number|             Address|Incident Date|Call Number|          Alarm DtTm|        Arrival DtTm|          Close DtTm|         City|Zipcode|Battalion|Station Area| Box|Suppression Units|Suppression Personnel|EMS Units|EMS Personnel|Other Units|Other Personnel|First Unit On Scene|Estimated Property Loss|Estimated Contents Loss|Fire Fatalities|Fire Injuries|Civilian Fatalities|Civilian Injuries|Number of Alarms|   Primary Situation|Mutual Aid|Action Taken Primary|Action Taken Secondary|Action Taken Other|Detector Alerted Occupants|        Property Use|Area of Fire Origin|Ignition Cause|Ignition Factor Primary|Ignition Factor Secondary|Heat Source|Item First Ignited|Human Factors Associated with Ignition|Structure Type|Structure Status|Floor of Fire Origin|Fire Spread|No Flame Spead|Number of floors with minimum damage|Number of floors with significant damage|Number of floors with heavy damage|Number of floors with extreme damage|Detectors Present|Detector Type|Detector Operation|Detector Effectiveness|Detector Failure Reason|Automatic Extinguishing System Present|Automatic Extinguishing Sytem Type|Automatic Extinguishing Sytem Perfomance|Automatic Extinguishing Sytem Failure Reason|Number of Sprinkler Heads Operating|Supervisor District|Neighborhood  District|            Location|\n",
      "+---------------+---------------+--------------------+-------------+-----------+--------------------+--------------------+--------------------+-------------+-------+---------+------------+----+-----------------+---------------------+---------+-------------+-----------+---------------+-------------------+-----------------------+-----------------------+---------------+-------------+-------------------+-----------------+----------------+--------------------+----------+--------------------+----------------------+------------------+--------------------------+--------------------+-------------------+--------------+-----------------------+-------------------------+-----------+------------------+--------------------------------------+--------------+----------------+--------------------+-----------+--------------+------------------------------------+----------------------------------------+----------------------------------+------------------------------------+-----------------+-------------+------------------+----------------------+-----------------------+--------------------------------------+----------------------------------+----------------------------------------+--------------------------------------------+-----------------------------------+-------------------+----------------------+--------------------+\n",
      "|       16000003|              0|Precita Av/florid...|   01/01/2016|  160010015|01/01/2016 12:02:...|01/01/2016 12:08:...|01/01/2016 12:12:...|San Francisco|  94110|      B06|          09|5621|                1|                    4|        0|            0|          0|              0|               NULL|                   NULL|                   NULL|              0|            0|                  0|                0|            NULL|600 good intent c...|    n none|      86 investigate|                  NULL|              NULL|                      NULL|962 residential s...|               NULL|          NULL|                   NULL|                     NULL|       NULL|              NULL|                                  NULL|          NULL|            NULL|                NULL|       NULL|            na|                                NULL|                                    NULL|                              NULL|                                NULL|             NULL|         NULL|              NULL|                  NULL|                   NULL|                                  NULL|                              NULL|                                    NULL|                                        NULL|                               NULL|                  9|        Bernal Heights|(37.7475540000296...|\n",
      "+---------------+---------------+--------------------+-------------+-----------+--------------------+--------------------+--------------------+-------------+-------+---------+------------+----+-----------------+---------------------+---------+-------------+-----------+---------------+-------------------+-----------------------+-----------------------+---------------+-------------+-------------------+-----------------+----------------+--------------------+----------+--------------------+----------------------+------------------+--------------------------+--------------------+-------------------+--------------+-----------------------+-------------------------+-----------+------------------+--------------------------------------+--------------+----------------+--------------------+-----------+--------------+------------------------------------+----------------------------------------+----------------------------------+------------------------------------+-----------------+-------------+------------------+----------------------+-----------------------+--------------------------------------+----------------------------------+----------------------------------------+--------------------------------------------+-----------------------------------+-------------------+----------------------+--------------------+\n",
      "only showing top 1 row\n",
      "\n"
     ]
    }
   ],
   "source": [
    "incidents.show(1)"
   ]
  },
  {
   "cell_type": "code",
   "execution_count": 30,
   "id": "1c5c725e",
   "metadata": {},
   "outputs": [
    {
     "name": "stdout",
     "output_type": "stream",
     "text": [
      "StringType()\n"
     ]
    }
   ],
   "source": [
    "print(incidents.schema[\"Estimated Property Loss\"].dataType)"
   ]
  },
  {
   "cell_type": "code",
   "execution_count": 21,
   "id": "002aae71",
   "metadata": {},
   "outputs": [
    {
     "name": "stdout",
     "output_type": "stream",
     "text": [
      "+----------+------+--------------+--------------+----------+----------+--------------------+--------------------+--------------------+----+-------+---------+-----------+----+----------------+--------+-------------+-------+-------------+---------+--------+--------------------------+----------------------+------------------+---------------+--------------------+-------------+-----+\n",
      "|CallNumber|UnitID|IncidentNumber|      CallType|  CallDate| WatchDate|CallFinalDisposition|       AvailableDtTm|             Address|City|Zipcode|Battalion|StationArea| Box|OriginalPriority|Priority|FinalPriority|ALSUnit|CallTypeGroup|NumAlarms|UnitType|UnitSequenceInCallDispatch|FirePreventionDistrict|SupervisorDistrict|   Neighborhood|            Location|        RowID|Delay|\n",
      "+----------+------+--------------+--------------+----------+----------+--------------------+--------------------+--------------------+----+-------+---------+-----------+----+----------------+--------+-------------+-------+-------------+---------+--------+--------------------------+----------------------+------------------+---------------+--------------------+-------------+-----+\n",
      "|  20110016|   T13|       2003235|Structure Fire|01/11/2002|01/10/2002|               Other|01/11/2002 01:51:...|2000 Block of CAL...|  SF|  94109|      B04|         38|3362|               3|       3|            3|  false|         NULL|        1|   TRUCK|                         2|                     4|                 5|Pacific Heights|(37.7895840679362...|020110016-T13| 2.95|\n",
      "+----------+------+--------------+--------------+----------+----------+--------------------+--------------------+--------------------+----+-------+---------+-----------+----+----------------+--------+-------------+-------+-------------+---------+--------+--------------------------+----------------------+------------------+---------------+--------------------+-------------+-----+\n",
      "only showing top 1 row\n",
      "\n"
     ]
    }
   ],
   "source": [
    "calls.show(1)"
   ]
  },
  {
   "cell_type": "code",
   "execution_count": 34,
   "id": "4adc688f",
   "metadata": {},
   "outputs": [
    {
     "name": "stdout",
     "output_type": "stream",
     "text": [
      "+--------------+--------------+-----------------------+\n",
      "|IncidentNumber|      CallType|Estimated Property Loss|\n",
      "+--------------+--------------+-----------------------+\n",
      "|      16067026|Structure Fire|              2500000.0|\n",
      "|      16067026|Structure Fire|              2500000.0|\n",
      "|      16067026|Structure Fire|              2500000.0|\n",
      "|      16105402|Structure Fire|              1200000.0|\n",
      "|      16116773|Structure Fire|              1000000.0|\n",
      "|      16134711|Structure Fire|              1000000.0|\n",
      "|      16017840|Structure Fire|               500000.0|\n",
      "|      16044470|Structure Fire|               500000.0|\n",
      "|      16069575|Structure Fire|               450000.0|\n",
      "|      16069575|Structure Fire|               450000.0|\n",
      "|      16069575|Structure Fire|               450000.0|\n",
      "|      16104735|Structure Fire|               375000.0|\n",
      "|      16104735|Structure Fire|               375000.0|\n",
      "|      16104735|Structure Fire|               375000.0|\n",
      "|      16044882|Structure Fire|               350000.0|\n",
      "|      16044882|Structure Fire|               350000.0|\n",
      "|      16054099|Structure Fire|               350000.0|\n",
      "|      16054099|Structure Fire|               350000.0|\n",
      "|      16128481|Structure Fire|               200000.0|\n",
      "|      16142892|Structure Fire|               150000.0|\n",
      "+--------------+--------------+-----------------------+\n",
      "only showing top 20 rows\n",
      "\n"
     ]
    }
   ],
   "source": [
    "calls.join(incidents, calls['IncidentNumber'] == incidents['Incident Number'], 'inner')\\\n",
    ".select('IncidentNumber', 'CallType', col('Estimated Property Loss').cast('double').alias(\"Estimated Property Loss\"))\\\n",
    ".sort(desc(\"Estimated Property Loss\"))\\\n",
    ".show()"
   ]
  },
  {
   "cell_type": "code",
   "execution_count": null,
   "id": "f4e89bab",
   "metadata": {},
   "outputs": [],
   "source": []
  }
 ],
 "metadata": {
  "kernelspec": {
   "display_name": "Python 3 (ipykernel)",
   "language": "python",
   "name": "python3"
  },
  "language_info": {
   "codemirror_mode": {
    "name": "ipython",
    "version": 3
   },
   "file_extension": ".py",
   "mimetype": "text/x-python",
   "name": "python",
   "nbconvert_exporter": "python",
   "pygments_lexer": "ipython3",
   "version": "3.10.9"
  }
 },
 "nbformat": 4,
 "nbformat_minor": 5
}
