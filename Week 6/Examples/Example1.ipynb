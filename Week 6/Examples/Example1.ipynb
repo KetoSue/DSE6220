{
 "cells": [
  {
   "cell_type": "markdown",
   "id": "0a713126",
   "metadata": {},
   "source": [
    "# Week 5\n",
    "Structured Streaming with local files"
   ]
  },
  {
   "cell_type": "code",
   "execution_count": 1,
   "id": "44ce6c85",
   "metadata": {},
   "outputs": [],
   "source": [
    "import os\n",
    "os.environ[\"PYSPARK_SUBMIT_ARGS\"] = '--master local[2] pyspark-shell'\n",
    "\n",
    "import findspark\n",
    "findspark.init()"
   ]
  },
  {
   "cell_type": "code",
   "execution_count": 2,
   "id": "8f6917b0",
   "metadata": {},
   "outputs": [],
   "source": [
    "from pyspark.sql import SparkSession\n",
    "from pyspark.sql.functions import explode\n",
    "from pyspark.sql.functions import split\n",
    "\n",
    "spark = (SparkSession \n",
    "    .builder \n",
    "     .master(\"local[*]\") \n",
    "    .appName(\"StructuredNetworkWordCount\") \\\n",
    "    .getOrCreate()\n",
    "        )"
   ]
  },
  {
   "cell_type": "code",
   "execution_count": 3,
   "id": "d74c8a1b",
   "metadata": {},
   "outputs": [],
   "source": [
    "spark.conf.set(\"spark.sql.streaming.schemaInference\", True)"
   ]
  },
  {
   "cell_type": "code",
   "execution_count": 4,
   "id": "0529f9ca",
   "metadata": {},
   "outputs": [],
   "source": [
    "word_sample = 'data/'"
   ]
  },
  {
   "cell_type": "code",
   "execution_count": 5,
   "id": "e400f273",
   "metadata": {},
   "outputs": [],
   "source": [
    "lines = spark \\\n",
    "    .readStream \\\n",
    "    .format(\"text\") \\\n",
    "    .load(word_sample)\n",
    "\n",
    "# Split the lines into words\n",
    "words = lines.select(\n",
    "   explode(\n",
    "       split(lines.value, \" \")\n",
    "   ).alias(\"word\")\n",
    ")\n",
    "\n",
    "# Generate running word count\n",
    "wordCounts = words.groupBy(\"word\").count()"
   ]
  },
  {
   "cell_type": "code",
   "execution_count": 6,
   "id": "3b5956a7",
   "metadata": {},
   "outputs": [
    {
     "data": {
      "text/plain": [
       "DataFrame[word: string, count: bigint]"
      ]
     },
     "execution_count": 6,
     "metadata": {},
     "output_type": "execute_result"
    }
   ],
   "source": [
    "wordCounts"
   ]
  },
  {
   "cell_type": "code",
   "execution_count": 7,
   "id": "b099ec70",
   "metadata": {},
   "outputs": [],
   "source": [
    " # Start running the query that prints the running counts to the console\n",
    "query = wordCounts \\\n",
    "    .writeStream \\\n",
    "    .queryName(\"word_counts\") \\\n",
    "    .outputMode(\"complete\") \\\n",
    "    .format(\"memory\") \\\n",
    "    .start()\n",
    "\n",
    "#query.awaitTermination()"
   ]
  },
  {
   "cell_type": "code",
   "execution_count": 8,
   "id": "ab3ce7a1",
   "metadata": {},
   "outputs": [
    {
     "data": {
      "text/plain": [
       "[<pyspark.sql.streaming.query.StreamingQuery at 0x23621e9edd0>]"
      ]
     },
     "execution_count": 8,
     "metadata": {},
     "output_type": "execute_result"
    }
   ],
   "source": [
    "spark.streams.active"
   ]
  },
  {
   "cell_type": "code",
   "execution_count": 17,
   "id": "4412e5f5",
   "metadata": {},
   "outputs": [
    {
     "name": "stdout",
     "output_type": "stream",
     "text": [
      "+---------+-----+\n",
      "|     word|count|\n",
      "+---------+-----+\n",
      "|     love|    1|\n",
      "|streaming|    3|\n",
      "|       is|    2|\n",
      "|      but|    1|\n",
      "|    spark|    6|\n",
      "|   really|    1|\n",
      "|     hard|    2|\n",
      "|     like|    1|\n",
      "|        I|    2|\n",
      "|    Spark|    2|\n",
      "+---------+-----+\n",
      "\n",
      "+---------+-----+\n",
      "|     word|count|\n",
      "+---------+-----+\n",
      "|     love|    1|\n",
      "|streaming|    3|\n",
      "|       is|    2|\n",
      "|      but|    1|\n",
      "|    spark|    6|\n",
      "|   really|    1|\n",
      "|     hard|    2|\n",
      "|     like|    1|\n",
      "|        I|    2|\n",
      "|    Spark|    2|\n",
      "+---------+-----+\n",
      "\n",
      "+---------+-----+\n",
      "|     word|count|\n",
      "+---------+-----+\n",
      "|     love|    1|\n",
      "|streaming|    3|\n",
      "|       is|    2|\n",
      "|      but|    1|\n",
      "|    spark|    6|\n",
      "|   really|    1|\n",
      "|     hard|    2|\n",
      "|     like|    1|\n",
      "|        I|    2|\n",
      "|    Spark|    2|\n",
      "+---------+-----+\n",
      "\n",
      "+---------+-----+\n",
      "|     word|count|\n",
      "+---------+-----+\n",
      "|     love|    1|\n",
      "|streaming|    3|\n",
      "|       is|    2|\n",
      "|      but|    1|\n",
      "|    spark|    6|\n",
      "|   really|    1|\n",
      "|     hard|    2|\n",
      "|     like|    1|\n",
      "|        I|    2|\n",
      "|    Spark|    2|\n",
      "+---------+-----+\n",
      "\n",
      "+---------+-----+\n",
      "|     word|count|\n",
      "+---------+-----+\n",
      "|     love|    1|\n",
      "|streaming|    3|\n",
      "|       is|    2|\n",
      "|      but|    1|\n",
      "|    spark|    6|\n",
      "|   really|    1|\n",
      "|     hard|    2|\n",
      "|     like|    1|\n",
      "|        I|    2|\n",
      "|    Spark|    2|\n",
      "+---------+-----+\n",
      "\n"
     ]
    }
   ],
   "source": [
    "from time import sleep\n",
    "for x in range(5):\n",
    "    spark.sql(\"select * from word_counts\").show(15)\n",
    "    sleep(1)"
   ]
  },
  {
   "cell_type": "code",
   "execution_count": null,
   "id": "cffdc3b7",
   "metadata": {},
   "outputs": [],
   "source": []
  },
  {
   "cell_type": "code",
   "execution_count": null,
   "id": "66c385f4",
   "metadata": {},
   "outputs": [],
   "source": []
  }
 ],
 "metadata": {
  "kernelspec": {
   "display_name": "Python 3 (ipykernel)",
   "language": "python",
   "name": "python3"
  },
  "language_info": {
   "codemirror_mode": {
    "name": "ipython",
    "version": 3
   },
   "file_extension": ".py",
   "mimetype": "text/x-python",
   "name": "python",
   "nbconvert_exporter": "python",
   "pygments_lexer": "ipython3",
   "version": "3.10.9"
  }
 },
 "nbformat": 4,
 "nbformat_minor": 5
}
